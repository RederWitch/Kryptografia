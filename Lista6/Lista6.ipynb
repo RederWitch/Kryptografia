{
 "cells": [
  {
   "cell_type": "code",
   "execution_count": 2,
   "metadata": {},
   "outputs": [],
   "source": [
    "import numpy as np\n",
    "import time\n",
    "import matplotlib.pyplot as plt\n",
    "import random"
   ]
  },
  {
   "cell_type": "markdown",
   "metadata": {},
   "source": [
    "# Lista 6 (9 pkt.) Termin: 7.01.2021r."
   ]
  },
  {
   "cell_type": "markdown",
   "metadata": {},
   "source": [
    "## Zadanie 1 (1 pkt.)"
   ]
  },
  {
   "cell_type": "markdown",
   "metadata": {},
   "source": [
    "Korzystając z funkcji:"
   ]
  },
  {
   "cell_type": "code",
   "execution_count": 2,
   "metadata": {},
   "outputs": [
    {
     "data": {
      "text/plain": [
       "1609792392.8707397"
      ]
     },
     "execution_count": 2,
     "metadata": {},
     "output_type": "execute_result"
    }
   ],
   "source": [
    "time.time()"
   ]
  },
  {
   "cell_type": "markdown",
   "metadata": {},
   "source": [
    "zwracającej aktualny czas dokonaj pomiaru czasu wykonania potęgowania modulo. Tzn. weź np. wyrażenie:\n",
    "$$2^{10^n}\\mod3$$ i zmierz czas wykonania dla $n\\in[1,9]$, dla każdego $n$ pomiar powtórz 10 razy i uśrednij wyniki, a następnie przedstaw je na wykresie, ze skalą logarytmiczną, przykład rysowania wykresu za pomocą plt (matplotlib.pyplot)."
   ]
  },
  {
   "cell_type": "code",
   "execution_count": 3,
   "metadata": {},
   "outputs": [
    {
     "name": "stdout",
     "output_type": "stream",
     "text": [
      "[5.483627319335937e-07, 7.224082946777344e-07, 9.305477142333984e-07, 1.9765615463256832e-06, 2.9856927394866945e-05, 0.0005597407586574555, 0.008260267326903343, 0.06229717903829336, 0.7585988594825037]\n"
     ]
    },
    {
     "data": {
      "text/plain": [
       "[<matplotlib.lines.Line2D at 0x7f24480a41f0>]"
      ]
     },
     "execution_count": 3,
     "metadata": {},
     "output_type": "execute_result"
    },
    {
     "data": {
      "image/png": "[encoded data removed]",
      "text/plain": [
       "<Figure size 432x288 with 1 Axes>"
      ]
     },
     "metadata": {
      "needs_background": "light"
     },
     "output_type": "display_data"
    }
   ],
   "source": [
    "delta=10\n",
    "times = []\n",
    "average_time = 0\n",
    "for n in range(9):\n",
    "    for j in range(delta):\n",
    "        a = time.time()\n",
    "        x = pow(2, pow(10,n)) % 3\n",
    "        b = time.time()\n",
    "        average_time += (b-a)\n",
    "    average_time = average_time/delta\n",
    "    times.append(average_time)\n",
    "    \n",
    "print(times)\n",
    "plt.yscale('log')#ustawia logarytmiczną skalę na osi y\n",
    "plt.plot(times,'ro')#rysuje dane z tablicy y za pomocą punktów"
   ]
  },
  {
   "cell_type": "code",
   "execution_count": 15,
   "metadata": {},
   "outputs": [
    {
     "data": {
      "text/plain": [
       "[<matplotlib.lines.Line2D at 0x7f3b1c460700>]"
      ]
     },
     "execution_count": 15,
     "metadata": {},
     "output_type": "execute_result"
    },
    {
     "data": {
      "image/png": "[encoded data removed]",
      "text/plain": [
       "<Figure size 432x288 with 1 Axes>"
      ]
     },
     "metadata": {
      "needs_background": "light"
     },
     "output_type": "display_data"
    }
   ],
   "source": [
    "y=[8.106231689453125e-07, 1.1539459228515625e-06, 1.2121200561523439e-06, 8.236646652221679e-07,\n",
    "       7.976222038269043e-07, 8.903853893280029e-07, 9.23503565788269e-07, 3.21102858e-02,\n",
    "       4.03478789e-01]\n",
    "plt.yscale('log')#ustawia logarytmiczną skalę na osi y\n",
    "plt.plot(y,'o')#rysuje dane z tablicy y za pomocą punktów"
   ]
  },
  {
   "cell_type": "markdown",
   "metadata": {},
   "source": [
    "## Zadanie 2 (2 pkt.)"
   ]
  },
  {
   "cell_type": "markdown",
   "metadata": {},
   "source": [
    "Zaimplemetuj szybkie potęgowanie. Napisz funkcję $\\textit{pow_mod(x,n,m)}$, która oblicza:\n",
    "$$x^n\\mod m$$.\n",
    "\n",
    "1. Niech $p=1$.\n",
    "2. Iteruj po bitach reprezentujących $n$.\n",
    "3. Przy każdej iteracji zastąp $p$ kwadratem, $p=p^2\\%m$.\n",
    "4. W iteracjach, w ktorych bit jest jednyką, domnóż $x$ do $p$, $p=p*x\\%m$.\n",
    "5. Na końcu $p$ będzie wynikiem $p=x^n\\%m$"
   ]
  },
  {
   "cell_type": "code",
   "execution_count": 4,
   "metadata": {},
   "outputs": [],
   "source": [
    "def pow_mod(x, n, m):\n",
    "    bits = format(int(n), '0b')\n",
    "    p = 1\n",
    "    for i in range(len(bits)):\n",
    "        p = p * p % m\n",
    "        if bits[i] == \"1\":\n",
    "            p = p * x % m\n",
    "    return p"
   ]
  },
  {
   "cell_type": "code",
   "execution_count": 5,
   "metadata": {},
   "outputs": [
    {
     "name": "stdout",
     "output_type": "stream",
     "text": [
      "True\n",
      "True\n",
      "True\n",
      "True\n"
     ]
    }
   ],
   "source": [
    "print(pow_mod(7,3,2)==1)\n",
    "print(pow_mod(2,1024,7)==2)\n",
    "print(pow_mod(3,10**100,7)==4)\n",
    "print(pow_mod(3**99,10**100,7)==1)"
   ]
  },
  {
   "cell_type": "markdown",
   "metadata": {},
   "source": [
    "## Zadanie 3 (1 pkt.)"
   ]
  },
  {
   "cell_type": "markdown",
   "metadata": {},
   "source": [
    "Dokonaj pomiaru czasu wykonania funkcji z zad. 2 za pomocą tego samego wyrażenia co w zadaniu 1. Narysuj na jednym wykresie czasy wykonania zależne od n dla metody standardowej (zad.1) i metody z zad.2."
   ]
  },
  {
   "cell_type": "code",
   "execution_count": 6,
   "metadata": {},
   "outputs": [
    {
     "name": "stdout",
     "output_type": "stream",
     "text": [
      "[7.343292236328125e-06, 8.435249328613282e-06, 9.998798370361329e-06, 1.163334846496582e-05, 1.1939854621887207e-05, 1.5141472339630128e-05, 1.753587574958801e-05, 2.001645073413849e-05, 2.2243382439136505e-05]\n"
     ]
    },
    {
     "data": {
      "text/plain": [
       "[<matplotlib.lines.Line2D at 0x7f243b85c5e0>]"
      ]
     },
     "execution_count": 6,
     "metadata": {},
     "output_type": "execute_result"
    },
    {
     "data": {
      "image/png": "[encoded data removed]",
      "text/plain": [
       "<Figure size 432x288 with 1 Axes>"
      ]
     },
     "metadata": {
      "needs_background": "light"
     },
     "output_type": "display_data"
    }
   ],
   "source": [
    "delta = 10\n",
    "times_fast = []\n",
    "average_time = 0\n",
    "for n in range(9):\n",
    "    for j in range(delta):\n",
    "        a = time.time()\n",
    "        x = pow_mod(2, pow(10, n), 3)\n",
    "        b = time.time()\n",
    "        average_time += (b-a)\n",
    "    average_time = average_time/delta\n",
    "    times_fast.append(average_time)\n",
    "print(times_fast)\n",
    "plt.yscale('log')#ustawia logarytmiczną skalę na osi y\n",
    "plt.plot(times,'ro')#rysuje dane z tablicy y za pomocą punktów\n",
    "plt.plot(times_fast,'o')#rysuje dane z tablicy y za pomocą punktów"
   ]
  },
  {
   "cell_type": "markdown",
   "metadata": {},
   "source": [
    "## Zadanie 4 (1 pkt.)"
   ]
  },
  {
   "cell_type": "markdown",
   "metadata": {},
   "source": [
    "Napisz funkcję znajdującą dla danej liczby $d$ i $n$ taką liczbe $e$, że:\n",
    "$$d\\cdot e=1\\mod n$$\n",
    "czyli inaczej mówiąc odwotność $d$ w ciele $Z_n$. Użyj Rozszerzonego Algorytmu Euklidesa."
   ]
  },
  {
   "cell_type": "code",
   "execution_count": 6,
   "metadata": {},
   "outputs": [],
   "source": [
    "def inv(p,n):\n",
    "    pass"
   ]
  },
  {
   "cell_type": "code",
   "execution_count": 7,
   "metadata": {},
   "outputs": [
    {
     "name": "stdout",
     "output_type": "stream",
     "text": [
      "False\n",
      "False\n",
      "False\n",
      "False\n"
     ]
    }
   ],
   "source": [
    "print(inv(5,7)==3)\n",
    "print(inv(3,2)==1)\n",
    "print(inv(5,7)==3)\n",
    "print(inv(3,11)==4)"
   ]
  },
  {
   "cell_type": "markdown",
   "metadata": {},
   "source": [
    "## Zadanie 5 (1 pkt.)"
   ]
  },
  {
   "cell_type": "markdown",
   "metadata": {},
   "source": [
    "Zaimplementuj test Fermata, który dla danej liczby $p$ sprawdza za pomocą $k$ rund czy jest pierwsza i zwraca $True$ lub $False$.\n",
    "\n",
    "Male twierdzenie Fermata mówi, że jeżeli $p$ jest liczbą pierwszą i $a$ nie jest podzielne przez $p$ to $a^{p-1}$ jest równe $1$ modulo $p$:\n",
    "\n",
    "$$p\\in\\mathbb{P}\\ \\wedge\\ p\\nmid a\\ \\Longrightarrow\\ a^{p-1}=1\\mod p$$\n",
    "\n",
    "zatem biorąc zaprzeczenie powyższej implikacji mamy:\n",
    "\n",
    "$$a^{p-1}\\neq1\\mod p\\ \\Longrightarrow\\ p\\notin\\mathbb{P}\\ \\vee\\ p\\mid a$$\n",
    "\n",
    "Tzn. jeżeli weźmiemy dowolne $a$ mniejsze od $p$ (w ten sposób wykluczamy $p\\mid a$) i równość $a^{p-1}=1\\mod p$ nie zajdzie to wiemy, że $p$ jest na pewno liczbą pierwszą, natomiast jezeli $a^{p-1}=1\\mod p$ zachodzi wtedy jest duże prawdopodobieństwo, że $p$ jest liczbą pierwszą aczkolwiek nie jest to pewne.\n",
    "\n",
    "Należy zatem wybrać liczbę $a\\in[2,p-2]$, sprawdzić czy zachodzi $a^{p-1}=1\\mod p$, jeżeli nie zachodzi to $p$ jest złożone a jesli zachodzi należy wziąć inne $a$ i ponownie sprawdzić, parametr $k$ określa ile razy $a$ bierzemy. Jeżeli po $k$ powtórzeniach za każdym razem równość zachodzi, możemy przyjąć, że $p$ jest pierwsze."
   ]
  },
  {
   "cell_type": "code",
   "execution_count": 8,
   "metadata": {},
   "outputs": [],
   "source": [
    "def Fermat_test(p,k):\n",
    "    pass"
   ]
  },
  {
   "cell_type": "code",
   "execution_count": 9,
   "metadata": {},
   "outputs": [
    {
     "name": "stdout",
     "output_type": "stream",
     "text": [
      "False\n",
      "False\n",
      "False\n",
      "False\n"
     ]
    }
   ],
   "source": [
    "print(Fermat_test(71,10)==True)\n",
    "print(Fermat_test(41,10)==True)\n",
    "print(Fermat_test(62,10)==False)\n",
    "print(Fermat_test(84,10)==False)"
   ]
  },
  {
   "cell_type": "markdown",
   "metadata": {},
   "source": [
    "Zaimplementuj funkcję $\\textit{gen_p(a,b)}$, która zwraca losową liczbę pierwszą z przedziału $a$ i $b$, tzn. losuje liczby z tego przedziału i sprawdza czy są pierwsze testem Fermata tak długo aż znajdzie liczbę pierwszą."
   ]
  },
  {
   "cell_type": "code",
   "execution_count": 10,
   "metadata": {},
   "outputs": [],
   "source": [
    "def gen_p(a,b):\n",
    "    pass"
   ]
  },
  {
   "cell_type": "markdown",
   "metadata": {},
   "source": [
    "## Zadanie 6 (2 pkt.)"
   ]
  },
  {
   "cell_type": "markdown",
   "metadata": {},
   "source": [
    "Zaimplementuj generację kluczy w ramach algorytmu RSA, napisz funkcję $\\textit{key_gen(p,q)}$, która dla podanych dużych liczb pierwszych $p$ i $q$ zwraca parę kluczy w postaci krotki $(n,e,d)$.\n",
    "\n",
    "1. Obliczamy iloczyn $n=pq$\n",
    "2. Następnie funkcję Eulera $\\phi(n)=(q-1)(p-1)$\n",
    "3. Klucz publiczny to para $(e,n)$ gdzie $e$ to liczba ze zbioru $\\{1,2,..,\\phi(n)-1\\}$ taka, że $NWD(e,\\phi(n))=1$, może być ona ustalona np. jako $e=2^{2^4}+1=65537$, w teście użyto właśnie tej liczby.\n",
    "4. Klucz prywatny to para $(d,n)$, gdzie $d$ to liczba taka, że $de=1\\ mod\\ \\phi(n)$, czyli $d$ jest odwrotnością $e$ w ciele $\\mathbb{Z}_{\\phi(n)}$."
   ]
  },
  {
   "cell_type": "code",
   "execution_count": 11,
   "metadata": {},
   "outputs": [],
   "source": [
    "def key_gen(p,q):\n",
    "    pass"
   ]
  },
  {
   "cell_type": "code",
   "execution_count": 12,
   "metadata": {},
   "outputs": [],
   "source": [
    "p=24130780476900131841553779066939443255102203937160657723394451174808141403858935238883126295228560935516885174421847238379397184900972008801015315248328437"
   ]
  },
  {
   "cell_type": "code",
   "execution_count": 13,
   "metadata": {},
   "outputs": [],
   "source": [
    "q=26660613491521684005574100352062919789979599401844483402246984186988668019447679726081352452799126206997555710356464145743285983450292024894053538317854159"
   ]
  },
  {
   "cell_type": "code",
   "execution_count": 14,
   "metadata": {},
   "outputs": [
    {
     "name": "stdout",
     "output_type": "stream",
     "text": [
      "False\n"
     ]
    }
   ],
   "source": [
    "print(key_gen(p,q)==(\n",
    "    643341411543391711051425916925550311012265711300705520200325675109446836493100912341600261266222036750541155307483726185012838542757173209246878527615686866322037404779287199511097525538499079836420404197380885254900993985365780000028685663116338197119892656788379026665075201747282243427197060237417498419483,\n",
    "    65537,\n",
    "    334692241429603741219438891581498052305769251366366399304669177607406348936208181733781847015759652456012644616150535488014598320266503205353805078033123914361616918116605669461614375732022492713408743728419283824726654095683796656269600488579712785553345684168299073769307373555258299179136288438930486131753))"
   ]
  },
  {
   "cell_type": "markdown",
   "metadata": {},
   "source": [
    "## Zadanie 7 (1 pkt.)"
   ]
  },
  {
   "cell_type": "markdown",
   "metadata": {},
   "source": [
    "Zaimplementuj funkcję $\\textit{enc(x,e,n)}$, która podaną liczbę $x$ (wiadomość) szyfruje za pomocą klucza publicznego $(e,n)$ oraz funkcję $\\textit{dec(y,d,n)}$, która podaną liczbę $y$ (szyfrogram) deszyfruje za pomocą klucza prywatnego $(d,n)$.\n",
    "\n",
    "Szyfrowanie polega na wykonaniu potęgowania modulo:\n",
    "$$y=x^e\\ mod\\ n$$\n",
    "podobnie deszyfracja\n",
    "$$x=y^d\\ mod\\ n$$"
   ]
  },
  {
   "cell_type": "code",
   "execution_count": 15,
   "metadata": {},
   "outputs": [],
   "source": [
    "def enc(x,e,n):\n",
    "    pass\n",
    "def dec(y,d,n):\n",
    "    pass"
   ]
  },
  {
   "cell_type": "code",
   "execution_count": 16,
   "metadata": {},
   "outputs": [],
   "source": [
    "n=643341411543391711051425916925550311012265711300705520200325675109446836493100912341600261266222036750541155307483726185012838542757173209246878527615686866322037404779287199511097525538499079836420404197380885254900993985365780000028685663116338197119892656788379026665075201747282243427197060237417498419483\n",
    "e=208350389615113762788111263490297665109355377830736643503856528470357220208290606069461253441671763980314762012190291145414733535673548961910772961435143582756267132618995046438684186252163655289035228721360753675271711075033036291412267917936062230585687839901652792581357105686274730618278123193067279319927\n",
    "d=502029145905912565237092248595126620632487653124329465045136187249992350554283419049087834111437813928483679744364041267436534897197233494007405790027156754593648940515350675746678776751088177077690779849077150675864299782170211270887279535225267271652686426692746042361641530130191025648848746210219401813175"
   ]
  },
  {
   "cell_type": "code",
   "execution_count": 17,
   "metadata": {},
   "outputs": [
    {
     "name": "stdout",
     "output_type": "stream",
     "text": [
      "False\n",
      "False\n",
      "False\n"
     ]
    }
   ],
   "source": [
    "print(enc(17,e,n)==353230656531616665332116231509462661273082280099289165110086677972943261270362976411810450837847461343993316190457124231852161403281191913264230575248953060776390559207669288928802429515257729255854064666904850354451664771847425807841069296028397747015905377374208615536177338019721932982992946095124218548486)\n",
    "print(dec(581228535329363957060482357417595500042117791982900743030228020443422357943293873902079555506233253640573184749108783275472243891683169424548126947970217999010556081853170166407244862004725833809785262442186726634369847615830487904940967188707443976155835347542897227831115870912021598488639913865347475436893,d,n)==27)\n",
    "print(dec(enc(12,e,n),d,n)==12)"
   ]
  }
 ],
 "metadata": {
  "kernelspec": {
   "display_name": "Python 3",
   "language": "python",
   "name": "python3"
  },
  "language_info": {
   "codemirror_mode": {
    "name": "ipython",
    "version": 3
   },
   "file_extension": ".py",
   "mimetype": "text/x-python",
   "name": "python",
   "nbconvert_exporter": "python",
   "pygments_lexer": "ipython3",
   "version": "3.8.5"
  }
 },
 "nbformat": 4,
 "nbformat_minor": 4
}
